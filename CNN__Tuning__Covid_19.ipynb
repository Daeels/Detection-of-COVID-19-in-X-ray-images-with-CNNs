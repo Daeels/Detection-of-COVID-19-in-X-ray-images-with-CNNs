{
  "nbformat": 4,
  "nbformat_minor": 0,
  "metadata": {
    "colab": {
      "provenance": []
    },
    "kernelspec": {
      "name": "python3",
      "display_name": "Python 3"
    },
    "language_info": {
      "name": "python"
    },
    "accelerator": "GPU"
  },
  "cells": [
    {
      "cell_type": "markdown",
      "metadata": {
        "id": "WqpsS81QrPUn"
      },
      "source": [
        "<p align=\"center\">\n",
        "\t<img src=\"https://user-images.githubusercontent.com/63207451/114284722-45901b80-9a52-11eb-8a0c-e99fc8681436.gif\" height=\"90\">\n",
        "<p/>"
      ]
    },
    {
      "cell_type": "markdown",
      "metadata": {
        "id": "tSjMsM9trRCM"
      },
      "source": [
        "# **IRGUI ILYAS, NGAKAM TCHEUMBE PESCIANY LAFORTUNE**"
      ]
    },
    {
      "cell_type": "markdown",
      "metadata": {
        "id": "G8U9rQtbrW4z"
      },
      "source": [
        "# Détection du COVID-19 dans les images radiographiques avec CNN & Tuning des hyperparamètres "
      ]
    },
    {
      "cell_type": "markdown",
      "metadata": {
        "id": "kQUTvxdSr6dc"
      },
      "source": [
        "## Importation des bibliothèques"
      ]
    },
    {
      "cell_type": "code",
      "metadata": {
        "id": "LDIgtl4ArGl1"
      },
      "source": [
        "import matplotlib.pyplot as plt\n",
        "import numpy as np\n",
        "import cv2\n",
        "from imutils import paths\n",
        "import os\n",
        "import keras\n",
        "\n",
        "from keras.layers import Conv2D, MaxPool2D, Dropout, Flatten, Dense\n",
        "from keras.models import Sequential\n",
        "from keras.optimizers import Adam\n",
        "from tensorflow.keras.utils import to_categorical\n",
        "from keras.wrappers.scikit_learn import KerasClassifier\n",
        "\n",
        "from sklearn.preprocessing import LabelBinarizer\n",
        "from sklearn.model_selection import train_test_split, GridSearchCV\n"
      ],
      "execution_count": null,
      "outputs": []
    },
    {
      "cell_type": "markdown",
      "metadata": {
        "id": "csaUcPrXtrv9"
      },
      "source": [
        "## Chargement du dataset"
      ]
    },
    {
      "cell_type": "markdown",
      "metadata": {
        "id": "_NitpznpydUJ"
      },
      "source": [
        "### Le dataset utilisé contient 25 images Normales et 25 images Covid en noir et blanc. \n",
        "### Nous avons importé le dataset dans le drive pour l'utiliser plus tard."
      ]
    },
    {
      "cell_type": "code",
      "metadata": {
        "id": "8kc4fCfctRQ1"
      },
      "source": [
        "imagePaths = list(paths.list_images(\"/content/drive/MyDrive/Colab Notebooks/dataset\"))\n",
        "imgs = []\n",
        "labels = []\n",
        "\n",
        "\n",
        "for imagePath in imagePaths:\n",
        "\n",
        "\tlabel = imagePath.split(os.path.sep)[-2]\n",
        "\t\n",
        "\timage = cv2.imread(imagePath)\n",
        "\timage = cv2.cvtColor(image, cv2.COLOR_BGR2RGB) # Transformation en RGB(rouge vert bleu)\n",
        "\timage = cv2.resize(image, (224, 224)) # 224x224 pixels\n",
        "\t\n",
        "\timgs.append(image)\n",
        "\tlabels.append(label)\n",
        " \n",
        "imgs = np.array(imgs) / 255.0 # La Normalisation \n",
        "labels = np.array(labels)"
      ],
      "execution_count": null,
      "outputs": []
    },
    {
      "cell_type": "code",
      "metadata": {
        "id": "V-Fkt3LXt3nv"
      },
      "source": [
        "# Encodage des labels en binaire\n",
        "lb = LabelBinarizer()\n",
        "labels = lb.fit_transform(labels)\n",
        "labels = to_categorical(labels) # Convertion des classes vectorielles en classes binaires\n",
        "\n",
        "# Partition du dataset en training and testing splits avec 80% training et 20% pour le testing\n",
        "(trainX, testX, trainY, testY) = train_test_split(imgs, labels,\n",
        "\ttest_size=0.20, stratify=labels, random_state=42)"
      ],
      "execution_count": null,
      "outputs": []
    },
    {
      "cell_type": "markdown",
      "metadata": {
        "id": "WijPQR7buIKF"
      },
      "source": [
        "## Création du modèle "
      ]
    },
    {
      "cell_type": "markdown",
      "metadata": {
        "id": "iHNTyDMAuRcv"
      },
      "source": [
        "### Dans notre cas, nous avons fait le tuning de tous les hyperparamètres (sauf le learning rate) en même temps.\n",
        "### Pour cela, nous avons donc définit les valeurs par défaut de certains hyperparamètres qui doivent être utilisés par d'autres."
      ]
    },
    {
      "cell_type": "code",
      "metadata": {
        "id": "seY5mTNEt8r1"
      },
      "source": [
        "def create_model(activation = 'relu', neurons=32, optimizer='adam', dropout_rate=0.0, weight_constraint=0):\n",
        "   model = Sequential()\n",
        "   model.add(Conv2D(neurons, kernel_size=(3,3), activation = activation, input_shape=(224,224,3)))\n",
        "   model.add(MaxPool2D(pool_size=(2, 2)))\n",
        "   model.add(Flatten())\n",
        "   model.add(Dropout(dropout_rate))\n",
        "   model.add(Dense(neurons*2, activation= activation))\n",
        "   model.add(Dense(2,activation='sigmoid'))\n",
        "   model.compile(loss=\"binary_crossentropy\", optimizer = optimizer, metrics=[\"accuracy\"])\n",
        "   return model"
      ],
      "execution_count": null,
      "outputs": []
    },
    {
      "cell_type": "markdown",
      "metadata": {
        "id": "OzEcuB6rvhsl"
      },
      "source": [
        "## Après plusieurs tests avec de nombreuses valeurs pour nos hyperparamètres, nous avons repéré la valeur idéale et avons ajusté nos listes à deux valeurs pour chacun des hyperparamètres pour gagner en temps."
      ]
    },
    {
      "cell_type": "code",
      "metadata": {
        "id": "8jGI2R3qt_N1"
      },
      "source": [
        "model = KerasClassifier(build_fn=create_model, batch_size=5, epochs=10, verbose=0) #Create model\n",
        " \n",
        "#Define grid search parameters\n",
        "batch_size=[8,10]\n",
        "epochs = [20,25]\n",
        "activation = ['softmax','relu']\n",
        "neurons = [25,32]\n",
        "optimizer = ['Adam', 'Adadelta']\n",
        "dropout_rate = [0.2,0.5]"
      ],
      "execution_count": null,
      "outputs": []
    },
    {
      "cell_type": "markdown",
      "metadata": {
        "id": "lumvRCmIxC5g"
      },
      "source": [
        "## Ensuite nous avons définit notre dictionnaire et appliqué GridSearchCV"
      ]
    },
    {
      "cell_type": "code",
      "metadata": {
        "colab": {
          "base_uri": "https://localhost:8080/"
        },
        "id": "0y1EhIhQvetG",
        "outputId": "d97027d1-ddd8-4c7b-bd9c-67005ac41097"
      },
      "source": [
        "param_grid = dict(batch_size=batch_size, \n",
        "                  epochs=epochs, \n",
        "                  activation = activation, \n",
        "                  neurons = neurons,\n",
        "                  optimizer = optimizer,\n",
        "                  dropout_rate = dropout_rate)\n",
        "\n",
        "grid = GridSearchCV(estimator=model, param_grid=param_grid, n_jobs=-1, cv=3)\n",
        "grid_result = grid.fit(trainX, trainY)"
      ],
      "execution_count": null,
      "outputs": [
        {
          "output_type": "stream",
          "text": [
            "/usr/local/lib/python3.7/dist-packages/joblib/externals/loky/process_executor.py:691: UserWarning: A worker stopped while some jobs were given to the executor. This can be caused by a too short worker timeout or by a memory leak.\n",
            "  \"timeout or by a memory leak.\", UserWarning\n"
          ],
          "name": "stderr"
        }
      ]
    },
    {
      "cell_type": "markdown",
      "metadata": {
        "id": "_gbf0inlx6Hq"
      },
      "source": [
        "## Summurize Results"
      ]
    },
    {
      "cell_type": "code",
      "metadata": {
        "colab": {
          "base_uri": "https://localhost:8080/"
        },
        "id": "pHvz9JU2uBvl",
        "outputId": "6390467e-f7e4-4b1f-cace-e01b9dcc6d78"
      },
      "source": [
        "print(\"Best_parameters: %f,%s\" %(grid_result.best_score_, grid_result.best_params_))\n",
        "\n",
        "means = grid_result.cv_results_['mean_test_score']\n",
        "stds = grid_result.cv_results_['std_test_score']\n",
        "params = grid_result.cv_results_['params']\n",
        "\n",
        "for mean ,stdev, param in zip(means, stds, params):\n",
        "  print(\"%f(%f) avec: %r\" %(mean,stdev,param))"
      ],
      "execution_count": null,
      "outputs": [
        {
          "output_type": "stream",
          "text": [
            "Best_parameters: 1.000000,{'activation': 'relu', 'batch_size': 8, 'dropout_rate': 0.2, 'epochs': 25, 'neurons': 32, 'optimizer': 'Adam'}\n",
            "0.371795(0.090655) avec: {'activation': 'softmax', 'batch_size': 8, 'dropout_rate': 0.2, 'epochs': 20, 'neurons': 25, 'optimizer': 'Adam'}\n",
            "0.371795(0.090655) avec: {'activation': 'softmax', 'batch_size': 8, 'dropout_rate': 0.2, 'epochs': 20, 'neurons': 25, 'optimizer': 'Adadelta'}\n",
            "0.628205(0.090655) avec: {'activation': 'softmax', 'batch_size': 8, 'dropout_rate': 0.2, 'epochs': 20, 'neurons': 32, 'optimizer': 'Adam'}\n",
            "0.500000(0.157019) avec: {'activation': 'softmax', 'batch_size': 8, 'dropout_rate': 0.2, 'epochs': 20, 'neurons': 32, 'optimizer': 'Adadelta'}\n",
            "0.371795(0.090655) avec: {'activation': 'softmax', 'batch_size': 8, 'dropout_rate': 0.2, 'epochs': 25, 'neurons': 25, 'optimizer': 'Adam'}\n",
            "0.500000(0.157019) avec: {'activation': 'softmax', 'batch_size': 8, 'dropout_rate': 0.2, 'epochs': 25, 'neurons': 25, 'optimizer': 'Adadelta'}\n",
            "0.371795(0.090655) avec: {'activation': 'softmax', 'batch_size': 8, 'dropout_rate': 0.2, 'epochs': 25, 'neurons': 32, 'optimizer': 'Adam'}\n",
            "0.500000(0.157019) avec: {'activation': 'softmax', 'batch_size': 8, 'dropout_rate': 0.2, 'epochs': 25, 'neurons': 32, 'optimizer': 'Adadelta'}\n",
            "0.371795(0.090655) avec: {'activation': 'softmax', 'batch_size': 8, 'dropout_rate': 0.5, 'epochs': 20, 'neurons': 25, 'optimizer': 'Adam'}\n",
            "0.628205(0.090655) avec: {'activation': 'softmax', 'batch_size': 8, 'dropout_rate': 0.5, 'epochs': 20, 'neurons': 25, 'optimizer': 'Adadelta'}\n",
            "0.371795(0.090655) avec: {'activation': 'softmax', 'batch_size': 8, 'dropout_rate': 0.5, 'epochs': 20, 'neurons': 32, 'optimizer': 'Adam'}\n",
            "0.500000(0.157019) avec: {'activation': 'softmax', 'batch_size': 8, 'dropout_rate': 0.5, 'epochs': 20, 'neurons': 32, 'optimizer': 'Adadelta'}\n",
            "0.371795(0.090655) avec: {'activation': 'softmax', 'batch_size': 8, 'dropout_rate': 0.5, 'epochs': 25, 'neurons': 25, 'optimizer': 'Adam'}\n",
            "0.371795(0.090655) avec: {'activation': 'softmax', 'batch_size': 8, 'dropout_rate': 0.5, 'epochs': 25, 'neurons': 25, 'optimizer': 'Adadelta'}\n",
            "0.371795(0.090655) avec: {'activation': 'softmax', 'batch_size': 8, 'dropout_rate': 0.5, 'epochs': 25, 'neurons': 32, 'optimizer': 'Adam'}\n",
            "0.500000(0.157019) avec: {'activation': 'softmax', 'batch_size': 8, 'dropout_rate': 0.5, 'epochs': 25, 'neurons': 32, 'optimizer': 'Adadelta'}\n",
            "0.500000(0.157019) avec: {'activation': 'softmax', 'batch_size': 10, 'dropout_rate': 0.2, 'epochs': 20, 'neurons': 25, 'optimizer': 'Adam'}\n",
            "0.500000(0.157019) avec: {'activation': 'softmax', 'batch_size': 10, 'dropout_rate': 0.2, 'epochs': 20, 'neurons': 25, 'optimizer': 'Adadelta'}\n",
            "0.500000(0.157019) avec: {'activation': 'softmax', 'batch_size': 10, 'dropout_rate': 0.2, 'epochs': 20, 'neurons': 32, 'optimizer': 'Adam'}\n",
            "0.371795(0.090655) avec: {'activation': 'softmax', 'batch_size': 10, 'dropout_rate': 0.2, 'epochs': 20, 'neurons': 32, 'optimizer': 'Adadelta'}\n",
            "0.371795(0.090655) avec: {'activation': 'softmax', 'batch_size': 10, 'dropout_rate': 0.2, 'epochs': 25, 'neurons': 25, 'optimizer': 'Adam'}\n",
            "0.500000(0.157019) avec: {'activation': 'softmax', 'batch_size': 10, 'dropout_rate': 0.2, 'epochs': 25, 'neurons': 25, 'optimizer': 'Adadelta'}\n",
            "0.371795(0.090655) avec: {'activation': 'softmax', 'batch_size': 10, 'dropout_rate': 0.2, 'epochs': 25, 'neurons': 32, 'optimizer': 'Adam'}\n",
            "0.500000(0.157019) avec: {'activation': 'softmax', 'batch_size': 10, 'dropout_rate': 0.2, 'epochs': 25, 'neurons': 32, 'optimizer': 'Adadelta'}\n",
            "0.371795(0.090655) avec: {'activation': 'softmax', 'batch_size': 10, 'dropout_rate': 0.5, 'epochs': 20, 'neurons': 25, 'optimizer': 'Adam'}\n",
            "0.628205(0.090655) avec: {'activation': 'softmax', 'batch_size': 10, 'dropout_rate': 0.5, 'epochs': 20, 'neurons': 25, 'optimizer': 'Adadelta'}\n",
            "0.371795(0.090655) avec: {'activation': 'softmax', 'batch_size': 10, 'dropout_rate': 0.5, 'epochs': 20, 'neurons': 32, 'optimizer': 'Adam'}\n",
            "0.628205(0.090655) avec: {'activation': 'softmax', 'batch_size': 10, 'dropout_rate': 0.5, 'epochs': 20, 'neurons': 32, 'optimizer': 'Adadelta'}\n",
            "0.371795(0.090655) avec: {'activation': 'softmax', 'batch_size': 10, 'dropout_rate': 0.5, 'epochs': 25, 'neurons': 25, 'optimizer': 'Adam'}\n",
            "0.371795(0.090655) avec: {'activation': 'softmax', 'batch_size': 10, 'dropout_rate': 0.5, 'epochs': 25, 'neurons': 25, 'optimizer': 'Adadelta'}\n",
            "0.371795(0.090655) avec: {'activation': 'softmax', 'batch_size': 10, 'dropout_rate': 0.5, 'epochs': 25, 'neurons': 32, 'optimizer': 'Adam'}\n",
            "0.371795(0.090655) avec: {'activation': 'softmax', 'batch_size': 10, 'dropout_rate': 0.5, 'epochs': 25, 'neurons': 32, 'optimizer': 'Adadelta'}\n",
            "0.950549(0.035039) avec: {'activation': 'relu', 'batch_size': 8, 'dropout_rate': 0.2, 'epochs': 20, 'neurons': 25, 'optimizer': 'Adam'}\n",
            "0.743590(0.191880) avec: {'activation': 'relu', 'batch_size': 8, 'dropout_rate': 0.2, 'epochs': 20, 'neurons': 25, 'optimizer': 'Adadelta'}\n",
            "0.950549(0.035039) avec: {'activation': 'relu', 'batch_size': 8, 'dropout_rate': 0.2, 'epochs': 20, 'neurons': 32, 'optimizer': 'Adam'}\n",
            "0.822344(0.097913) avec: {'activation': 'relu', 'batch_size': 8, 'dropout_rate': 0.2, 'epochs': 20, 'neurons': 32, 'optimizer': 'Adadelta'}\n",
            "0.976190(0.033672) avec: {'activation': 'relu', 'batch_size': 8, 'dropout_rate': 0.2, 'epochs': 25, 'neurons': 25, 'optimizer': 'Adam'}\n",
            "0.642857(0.204457) avec: {'activation': 'relu', 'batch_size': 8, 'dropout_rate': 0.2, 'epochs': 25, 'neurons': 25, 'optimizer': 'Adadelta'}\n",
            "1.000000(0.000000) avec: {'activation': 'relu', 'batch_size': 8, 'dropout_rate': 0.2, 'epochs': 25, 'neurons': 32, 'optimizer': 'Adam'}\n",
            "0.794872(0.145048) avec: {'activation': 'relu', 'batch_size': 8, 'dropout_rate': 0.2, 'epochs': 25, 'neurons': 32, 'optimizer': 'Adadelta'}\n",
            "0.976190(0.033672) avec: {'activation': 'relu', 'batch_size': 8, 'dropout_rate': 0.5, 'epochs': 20, 'neurons': 25, 'optimizer': 'Adam'}\n",
            "0.565934(0.264003) avec: {'activation': 'relu', 'batch_size': 8, 'dropout_rate': 0.5, 'epochs': 20, 'neurons': 25, 'optimizer': 'Adadelta'}\n",
            "0.950549(0.035039) avec: {'activation': 'relu', 'batch_size': 8, 'dropout_rate': 0.5, 'epochs': 20, 'neurons': 32, 'optimizer': 'Adam'}\n",
            "0.769231(0.166173) avec: {'activation': 'relu', 'batch_size': 8, 'dropout_rate': 0.5, 'epochs': 20, 'neurons': 32, 'optimizer': 'Adadelta'}\n",
            "0.976190(0.033672) avec: {'activation': 'relu', 'batch_size': 8, 'dropout_rate': 0.5, 'epochs': 25, 'neurons': 25, 'optimizer': 'Adam'}\n",
            "0.598901(0.099206) avec: {'activation': 'relu', 'batch_size': 8, 'dropout_rate': 0.5, 'epochs': 25, 'neurons': 25, 'optimizer': 'Adadelta'}\n",
            "0.974359(0.036262) avec: {'activation': 'relu', 'batch_size': 8, 'dropout_rate': 0.5, 'epochs': 25, 'neurons': 32, 'optimizer': 'Adam'}\n",
            "0.747253(0.077704) avec: {'activation': 'relu', 'batch_size': 8, 'dropout_rate': 0.5, 'epochs': 25, 'neurons': 32, 'optimizer': 'Adadelta'}\n",
            "0.976190(0.033672) avec: {'activation': 'relu', 'batch_size': 10, 'dropout_rate': 0.2, 'epochs': 20, 'neurons': 25, 'optimizer': 'Adam'}\n",
            "0.719780(0.160442) avec: {'activation': 'relu', 'batch_size': 10, 'dropout_rate': 0.2, 'epochs': 20, 'neurons': 25, 'optimizer': 'Adadelta'}\n",
            "0.976190(0.033672) avec: {'activation': 'relu', 'batch_size': 10, 'dropout_rate': 0.2, 'epochs': 20, 'neurons': 32, 'optimizer': 'Adam'}\n",
            "0.771062(0.111376) avec: {'activation': 'relu', 'batch_size': 10, 'dropout_rate': 0.2, 'epochs': 20, 'neurons': 32, 'optimizer': 'Adadelta'}\n",
            "0.924908(0.062861) avec: {'activation': 'relu', 'batch_size': 10, 'dropout_rate': 0.2, 'epochs': 25, 'neurons': 25, 'optimizer': 'Adam'}\n",
            "0.771062(0.111376) avec: {'activation': 'relu', 'batch_size': 10, 'dropout_rate': 0.2, 'epochs': 25, 'neurons': 25, 'optimizer': 'Adadelta'}\n",
            "0.976190(0.033672) avec: {'activation': 'relu', 'batch_size': 10, 'dropout_rate': 0.2, 'epochs': 25, 'neurons': 32, 'optimizer': 'Adam'}\n",
            "0.822344(0.097913) avec: {'activation': 'relu', 'batch_size': 10, 'dropout_rate': 0.2, 'epochs': 25, 'neurons': 32, 'optimizer': 'Adadelta'}\n",
            "0.950549(0.035039) avec: {'activation': 'relu', 'batch_size': 10, 'dropout_rate': 0.5, 'epochs': 20, 'neurons': 25, 'optimizer': 'Adam'}\n",
            "0.540293(0.276344) avec: {'activation': 'relu', 'batch_size': 10, 'dropout_rate': 0.5, 'epochs': 20, 'neurons': 25, 'optimizer': 'Adadelta'}\n",
            "0.976190(0.033672) avec: {'activation': 'relu', 'batch_size': 10, 'dropout_rate': 0.5, 'epochs': 20, 'neurons': 32, 'optimizer': 'Adam'}\n",
            "0.565934(0.264003) avec: {'activation': 'relu', 'batch_size': 10, 'dropout_rate': 0.5, 'epochs': 20, 'neurons': 32, 'optimizer': 'Adadelta'}\n",
            "1.000000(0.000000) avec: {'activation': 'relu', 'batch_size': 10, 'dropout_rate': 0.5, 'epochs': 25, 'neurons': 25, 'optimizer': 'Adam'}\n",
            "0.668498(0.222706) avec: {'activation': 'relu', 'batch_size': 10, 'dropout_rate': 0.5, 'epochs': 25, 'neurons': 25, 'optimizer': 'Adadelta'}\n",
            "0.976190(0.033672) avec: {'activation': 'relu', 'batch_size': 10, 'dropout_rate': 0.5, 'epochs': 25, 'neurons': 32, 'optimizer': 'Adam'}\n",
            "0.796703(0.098391) avec: {'activation': 'relu', 'batch_size': 10, 'dropout_rate': 0.5, 'epochs': 25, 'neurons': 32, 'optimizer': 'Adadelta'}\n"
          ],
          "name": "stdout"
        }
      ]
    },
    {
      "cell_type": "markdown",
      "metadata": {
        "id": "Bh6_6f7iz0uK"
      },
      "source": [
        "## Le score optimal obtenu est de : 100% avec les hyperparamètres suivants :\n",
        "## **{'activation': 'relu', 'batch_size': 8, 'dropout_rate': 0.2, 'epochs': 25, 'neurons': 32, 'optimizer': 'Adam'}**"
      ]
    }
  ]
}